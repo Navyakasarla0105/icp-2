{
  "nbformat": 4,
  "nbformat_minor": 0,
  "metadata": {
    "colab": {
      "provenance": [],
      "authorship_tag": "ABX9TyMjilF+BO6/ErGmJvnuG69l",
      "include_colab_link": true
    },
    "kernelspec": {
      "name": "python3",
      "display_name": "Python 3"
    },
    "language_info": {
      "name": "python"
    }
  },
  "cells": [
    {
      "cell_type": "markdown",
      "metadata": {
        "id": "view-in-github",
        "colab_type": "text"
      },
      "source": [
        "<a href=\"https://colab.research.google.com/github/Navyakasarla0105/icp-2/blob/main/icp-2.ipynb\" target=\"_parent\"><img src=\"https://colab.research.google.com/assets/colab-badge.svg\" alt=\"Open In Colab\"/></a>"
      ]
    },
    {
      "cell_type": "markdown",
      "source": [
        "Kasarla Navya - 700766043\n",
        "ICP-2 (01/21/25)\n"
      ],
      "metadata": {
        "id": "s8tQDH7giS6S"
      }
    },
    {
      "cell_type": "code",
      "execution_count": null,
      "metadata": {
        "id": "jFs9Xktjf8eY"
      },
      "outputs": [],
      "source": []
    },
    {
      "cell_type": "markdown",
      "source": [
        "**Create a class Employee and then do the following**\n",
        " Create a data member to count the number of Employees\n",
        "* Create a constructor to initialize name, family, salary, department\n",
        "* Create a function to average salary\n",
        "* Create a Fulltime Employee class and it should inherit the properties of Employee class\n",
        "*  Create the instances of Fulltime Employee class and Employee class and call their member functions."
      ],
      "metadata": {
        "id": "N0Zs0a6FiKdU"
      }
    },
    {
      "cell_type": "code",
      "source": [
        "# Employee Class creation\n",
        "class Employee():\n",
        "    # create data members to track count of employee and list of salaries\n",
        "    emp_count = 0\n",
        "    # constructor for initializing the variables\n",
        "    def __init__(self,name,family,salary,department):\n",
        "        self.name = name,\n",
        "        self.family = family,\n",
        "        self.salary = salary,\n",
        "        self.department = department,\n",
        "        Employee.emp_count += 1\n",
        "\n",
        "    # function to return average of salary\n",
        "    def avg_salary(employees:list):\n",
        "        salaries_list = [emp.salary[0] for emp in employees] # method 1 : generic\n",
        "        # print(emp.salary[0] for emp in employees)\n",
        "        avg_sal = sum(salaries_list)/Employee.emp_count      # method 2 : using numpy\n",
        "        # avg_sal = np.mean(salaries_list)\n",
        "        return avg_sal\n",
        "\n",
        "# create FullTimeEmployee class and inherit the properties from Employee class\n",
        "class FullTimeEmployee(Employee):\n",
        "    def __init__(self,name,family,salary,department):\n",
        "        # calling parent class constructor\n",
        "        super().__init__(name,family,salary,department)\n",
        "\n",
        "employees = []\n",
        "employees.append(Employee(\"Navya\",\"Reddy\",300000,\"Finance\"))\n",
        "employees.append(Employee(\"Krishna\",\"Kanth\",10000,\"Artificial Intelligence\"))\n",
        "employees.append(FullTimeEmployee(\"kavya\",\"Vuragayala\",600000,\"Marketing\"))\n",
        "employees.append(FullTimeEmployee(\"Nandu\",\"Prasad\",700000,\"Data Science\"))\n",
        "\n",
        "\n",
        "print(\"Output using employee class : \",  Employee.avg_salary(employees))\n",
        "print(\"Output using fulltime employee class : \",FullTimeEmployee.avg_salary(employees))"
      ],
      "metadata": {
        "colab": {
          "base_uri": "https://localhost:8080/"
        },
        "id": "MOD_n3-Jh4Pb",
        "outputId": "7f3d96f5-aa80-4744-e5c3-3731e72f500e"
      },
      "execution_count": 3,
      "outputs": [
        {
          "output_type": "stream",
          "name": "stdout",
          "text": [
            "Output using employee class :  402500.0\n",
            "Output using fulltime employee class :  402500.0\n"
          ]
        }
      ]
    },
    {
      "cell_type": "markdown",
      "source": [
        "Using NumPy create random vector of size 20 having only float in the range 1-20.\n",
        "\n",
        "Then reshape the array to 4 by 5\n",
        "Then replace the max in each row by 0 (axis=1)"
      ],
      "metadata": {
        "id": "kyz_oqUzkG4g"
      }
    },
    {
      "cell_type": "code",
      "source": [
        "import numpy as np\n",
        "#generating a vector\n",
        "vector = np.random.uniform(1, 20, 20)\n",
        "\n",
        "#reshaping the vector into 4 * 5 matrix\n",
        "matrix = vector.reshape(4, 5)\n",
        "\n",
        "print(\"Original Matrix: \\n\",matrix)\n",
        "\n",
        "#finding the index of the max element along axis = 1\n",
        "indices = np.argmax(matrix, axis=1)\n",
        "\n",
        "#Create a range of indices for each row\n",
        "row_indices = np.arange(matrix.shape[0])\n",
        "\n",
        "#Use advanced indexing to replace max values with 0\n",
        "matrix[row_indices, indices] = 0\n",
        "\n",
        "print(\"Resultant Matrix: \\n\",matrix)"
      ],
      "metadata": {
        "colab": {
          "base_uri": "https://localhost:8080/"
        },
        "id": "X2kM6iB_kK3j",
        "outputId": "5de9858f-8447-47fc-fd94-8c087f165c5a"
      },
      "execution_count": 9,
      "outputs": [
        {
          "output_type": "stream",
          "name": "stdout",
          "text": [
            "Original Matrix: \n",
            " [[17.35604231  8.25227276  4.24505919 15.96902818 16.83895264]\n",
            " [ 5.53518153  4.34851387  6.01659106  8.55786004 17.48589259]\n",
            " [ 6.91278835 14.24501795  8.28953964  4.82300635 17.3220837 ]\n",
            " [10.01793895  7.36212337 10.37544182  7.84003333  7.71622547]]\n",
            "Resultant Matrix: \n",
            " [[ 0.          8.25227276  4.24505919 15.96902818 16.83895264]\n",
            " [ 5.53518153  4.34851387  6.01659106  8.55786004  0.        ]\n",
            " [ 6.91278835 14.24501795  8.28953964  4.82300635  0.        ]\n",
            " [10.01793895  7.36212337  0.          7.84003333  7.71622547]]\n"
          ]
        }
      ]
    }
  ]
}